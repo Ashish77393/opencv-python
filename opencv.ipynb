{
 "cells": [
  {
   "cell_type": "code",
   "execution_count": 2,
   "id": "148eb6e0-9155-4610-9f1b-af8efa4bcdca",
   "metadata": {},
   "outputs": [],
   "source": [
    "import cv2\n",
    "import numpy as np"
   ]
  },
  {
   "cell_type": "code",
   "execution_count": 3,
   "id": "0a91047a-04f4-4ee9-a0d2-ebcce468e57b",
   "metadata": {},
   "outputs": [],
   "source": [
    "img=cv2.imread('viratkohli.jpeg')"
   ]
  },
  {
   "cell_type": "code",
   "execution_count": null,
   "id": "fa5c1756-5a82-45c3-9d0a-717a0a206cb5",
   "metadata": {},
   "outputs": [],
   "source": []
  },
  {
   "cell_type": "code",
   "execution_count": 4,
   "id": "abc3c8b8-c54f-40b4-8148-afc62b58061b",
   "metadata": {},
   "outputs": [
    {
     "name": "stdout",
     "output_type": "stream",
     "text": [
      "<class 'numpy.ndarray'>\n"
     ]
    }
   ],
   "source": [
    "print(type(img))"
   ]
  },
  {
   "cell_type": "code",
   "execution_count": 5,
   "id": "3c284619-71ba-4c3d-9d26-b8eb3c2d3e75",
   "metadata": {},
   "outputs": [
    {
     "name": "stdout",
     "output_type": "stream",
     "text": [
      "(225, 225, 3)\n"
     ]
    }
   ],
   "source": [
    "print(img.shape)"
   ]
  },
  {
   "cell_type": "code",
   "execution_count": 6,
   "id": "0b2ae6d3-e9d5-4a2f-8071-5b8ee9cfb94e",
   "metadata": {},
   "outputs": [
    {
     "data": {
      "text/plain": [
       "-1"
      ]
     },
     "execution_count": 6,
     "metadata": {},
     "output_type": "execute_result"
    }
   ],
   "source": [
    "output=cv2.imshow('windows',img)\n",
    "cv2.waitKey(0)"
   ]
  },
  {
   "cell_type": "code",
   "execution_count": 18,
   "id": "48841af0-fcaa-486a-9df7-051f52af4f55",
   "metadata": {},
   "outputs": [],
   "source": [
    "img_blue=img[:,:,0]\n",
    "img_grey=img[:,:,1]\n",
    "img_red=img[:,:,2]\n",
    "new_image=np.hstack((img_blue,img_grey,img_red))"
   ]
  },
  {
   "cell_type": "code",
   "execution_count": 27,
   "id": "018af7a7-420d-48fb-846f-d8c685348205",
   "metadata": {},
   "outputs": [],
   "source": [
    "img_blue=img[:,:,:]\n",
    "img_grey=img[:,:,:]\n",
    "img_red=img[:,:,:]\n",
    "new_image=np.hstack((img_blue,img_grey,img_red))"
   ]
  },
  {
   "cell_type": "code",
   "execution_count": 28,
   "id": "62395266-5c56-4e63-b61a-ae07bbd555c0",
   "metadata": {},
   "outputs": [
    {
     "data": {
      "text/plain": [
       "array([[76, 76, 88],\n",
       "       [75, 75, 87],\n",
       "       [75, 75, 87],\n",
       "       [75, 75, 87],\n",
       "       [74, 74, 86],\n",
       "       [74, 74, 86],\n",
       "       [74, 74, 86],\n",
       "       [73, 73, 85],\n",
       "       [74, 74, 86],\n",
       "       [75, 75, 87],\n",
       "       [75, 75, 87],\n",
       "       [75, 75, 87],\n",
       "       [76, 76, 88],\n",
       "       [76, 76, 88],\n",
       "       [76, 76, 88],\n",
       "       [77, 77, 89],\n",
       "       [77, 77, 89],\n",
       "       [77, 77, 89],\n",
       "       [77, 77, 89],\n",
       "       [77, 77, 89],\n",
       "       [77, 77, 89],\n",
       "       [77, 77, 89],\n",
       "       [77, 77, 89],\n",
       "       [77, 77, 89],\n",
       "       [77, 77, 89],\n",
       "       [77, 77, 89],\n",
       "       [77, 77, 89],\n",
       "       [78, 78, 90],\n",
       "       [78, 78, 90],\n",
       "       [78, 78, 90],\n",
       "       [79, 79, 91],\n",
       "       [79, 79, 91],\n",
       "       [79, 79, 91],\n",
       "       [79, 79, 91],\n",
       "       [79, 79, 91],\n",
       "       [79, 79, 91],\n",
       "       [79, 79, 91],\n",
       "       [79, 79, 91],\n",
       "       [79, 79, 91],\n",
       "       [79, 79, 91],\n",
       "       [79, 79, 91],\n",
       "       [79, 79, 91],\n",
       "       [79, 79, 91],\n",
       "       [79, 79, 91],\n",
       "       [79, 79, 91],\n",
       "       [79, 79, 91],\n",
       "       [79, 79, 91],\n",
       "       [79, 79, 91],\n",
       "       [80, 80, 92],\n",
       "       [80, 80, 92],\n",
       "       [80, 80, 92],\n",
       "       [80, 80, 92],\n",
       "       [80, 80, 92],\n",
       "       [80, 80, 92],\n",
       "       [80, 80, 92],\n",
       "       [80, 80, 92],\n",
       "       [81, 81, 93],\n",
       "       [81, 81, 93],\n",
       "       [81, 81, 93],\n",
       "       [81, 81, 93],\n",
       "       [81, 81, 93],\n",
       "       [81, 81, 93],\n",
       "       [81, 81, 93],\n",
       "       [81, 81, 93],\n",
       "       [81, 81, 93],\n",
       "       [81, 81, 93],\n",
       "       [82, 82, 94],\n",
       "       [82, 82, 94],\n",
       "       [82, 82, 94],\n",
       "       [83, 83, 95],\n",
       "       [83, 83, 95],\n",
       "       [83, 83, 95],\n",
       "       [82, 82, 94],\n",
       "       [83, 83, 95],\n",
       "       [83, 83, 95],\n",
       "       [83, 83, 95],\n",
       "       [84, 84, 96],\n",
       "       [84, 84, 96],\n",
       "       [84, 84, 96],\n",
       "       [84, 84, 96],\n",
       "       [83, 83, 95],\n",
       "       [83, 83, 95],\n",
       "       [83, 83, 95],\n",
       "       [83, 83, 95],\n",
       "       [83, 83, 95],\n",
       "       [83, 83, 95],\n",
       "       [83, 83, 95],\n",
       "       [83, 83, 95],\n",
       "       [82, 82, 94],\n",
       "       [82, 82, 94],\n",
       "       [82, 82, 94],\n",
       "       [82, 82, 94],\n",
       "       [82, 82, 94],\n",
       "       [82, 82, 94],\n",
       "       [82, 82, 94],\n",
       "       [82, 82, 94],\n",
       "       [82, 82, 94],\n",
       "       [83, 83, 95],\n",
       "       [83, 83, 95],\n",
       "       [83, 83, 95],\n",
       "       [84, 84, 96],\n",
       "       [84, 84, 96],\n",
       "       [84, 84, 96],\n",
       "       [85, 85, 97],\n",
       "       [86, 86, 98],\n",
       "       [86, 86, 98],\n",
       "       [86, 86, 98],\n",
       "       [86, 86, 98],\n",
       "       [86, 86, 98],\n",
       "       [86, 86, 98],\n",
       "       [86, 86, 98],\n",
       "       [86, 86, 98],\n",
       "       [86, 86, 98],\n",
       "       [86, 86, 98],\n",
       "       [86, 86, 98],\n",
       "       [86, 86, 98],\n",
       "       [86, 86, 98],\n",
       "       [86, 86, 98],\n",
       "       [86, 86, 98],\n",
       "       [86, 86, 98],\n",
       "       [86, 86, 98],\n",
       "       [86, 86, 98],\n",
       "       [86, 86, 98],\n",
       "       [86, 86, 98],\n",
       "       [86, 86, 98],\n",
       "       [86, 86, 98],\n",
       "       [86, 86, 98],\n",
       "       [86, 86, 98],\n",
       "       [86, 86, 98],\n",
       "       [86, 86, 98],\n",
       "       [86, 86, 98],\n",
       "       [86, 86, 98],\n",
       "       [86, 86, 98],\n",
       "       [86, 86, 98],\n",
       "       [86, 86, 98],\n",
       "       [86, 86, 98],\n",
       "       [85, 85, 97],\n",
       "       [85, 85, 97],\n",
       "       [85, 85, 97],\n",
       "       [85, 85, 97],\n",
       "       [85, 85, 97],\n",
       "       [85, 85, 97],\n",
       "       [85, 85, 97],\n",
       "       [85, 85, 97],\n",
       "       [86, 86, 98],\n",
       "       [85, 85, 97],\n",
       "       [85, 85, 97],\n",
       "       [85, 85, 97],\n",
       "       [84, 84, 96],\n",
       "       [84, 84, 96],\n",
       "       [84, 84, 96],\n",
       "       [83, 83, 95],\n",
       "       [83, 83, 95],\n",
       "       [83, 83, 95],\n",
       "       [83, 83, 95],\n",
       "       [83, 83, 95],\n",
       "       [83, 83, 95],\n",
       "       [83, 83, 95],\n",
       "       [83, 83, 95],\n",
       "       [83, 83, 95],\n",
       "       [85, 85, 97],\n",
       "       [85, 85, 97],\n",
       "       [85, 85, 97],\n",
       "       [85, 85, 97],\n",
       "       [85, 85, 97],\n",
       "       [85, 85, 97],\n",
       "       [85, 85, 97],\n",
       "       [85, 85, 97],\n",
       "       [85, 85, 97],\n",
       "       [85, 85, 97],\n",
       "       [85, 85, 97],\n",
       "       [85, 85, 97],\n",
       "       [85, 85, 97],\n",
       "       [85, 85, 97],\n",
       "       [85, 85, 97],\n",
       "       [85, 85, 97],\n",
       "       [85, 85, 97],\n",
       "       [85, 85, 97],\n",
       "       [85, 85, 97],\n",
       "       [85, 85, 97],\n",
       "       [85, 85, 97],\n",
       "       [85, 85, 97],\n",
       "       [85, 85, 97],\n",
       "       [85, 85, 97],\n",
       "       [83, 83, 95],\n",
       "       [83, 83, 95],\n",
       "       [83, 83, 95],\n",
       "       [83, 83, 95],\n",
       "       [83, 83, 95],\n",
       "       [83, 83, 95],\n",
       "       [83, 83, 95],\n",
       "       [83, 83, 95],\n",
       "       [83, 83, 95],\n",
       "       [83, 83, 95],\n",
       "       [83, 83, 95],\n",
       "       [83, 83, 95],\n",
       "       [83, 83, 95],\n",
       "       [83, 83, 95],\n",
       "       [83, 83, 95],\n",
       "       [83, 83, 95],\n",
       "       [83, 83, 95],\n",
       "       [83, 83, 95],\n",
       "       [83, 83, 95],\n",
       "       [83, 83, 95],\n",
       "       [83, 83, 95],\n",
       "       [83, 83, 95],\n",
       "       [83, 83, 95],\n",
       "       [83, 83, 95],\n",
       "       [82, 82, 94],\n",
       "       [82, 82, 94],\n",
       "       [82, 82, 94],\n",
       "       [82, 82, 94],\n",
       "       [82, 82, 94],\n",
       "       [82, 82, 94],\n",
       "       [82, 82, 94],\n",
       "       [82, 82, 94],\n",
       "       [81, 81, 93],\n",
       "       [81, 81, 93],\n",
       "       [81, 81, 93],\n",
       "       [81, 81, 93],\n",
       "       [81, 81, 93],\n",
       "       [81, 81, 93],\n",
       "       [81, 81, 93],\n",
       "       [81, 81, 93],\n",
       "       [85, 85, 97]], dtype=uint8)"
      ]
     },
     "execution_count": 28,
     "metadata": {},
     "output_type": "execute_result"
    }
   ],
   "source": [
    "img_blue[1]"
   ]
  },
  {
   "cell_type": "code",
   "execution_count": 29,
   "id": "f5c435bf-5a7e-4e15-a9cf-56626b3f79e1",
   "metadata": {},
   "outputs": [
    {
     "data": {
      "text/plain": [
       "-1"
      ]
     },
     "execution_count": 29,
     "metadata": {},
     "output_type": "execute_result"
    }
   ],
   "source": [
    "cv2.imshow('windows',new_image)\n",
    "cv2.waitKey(0)"
   ]
  },
  {
   "cell_type": "markdown",
   "id": "0eb38c9b-d6ea-4ccc-a86c-5c1d80e8dfe4",
   "metadata": {},
   "source": [
    "# resize Image"
   ]
  },
  {
   "cell_type": "code",
   "execution_count": 28,
   "id": "34964c3c-2326-4d0d-b2d5-4f2ea5fbc622",
   "metadata": {},
   "outputs": [],
   "source": [
    "# print(img.shape)"
   ]
  },
  {
   "cell_type": "code",
   "execution_count": 29,
   "id": "4d9f33f3-8321-4a61-bc51-a0fdd80271d3",
   "metadata": {},
   "outputs": [],
   "source": [
    "# img_resize=cv2.resize(img,(255,255))"
   ]
  },
  {
   "cell_type": "code",
   "execution_count": 30,
   "id": "60a98926-c4d6-4e4e-af42-b02302f374d3",
   "metadata": {},
   "outputs": [],
   "source": [
    "# print(img_resize.shape)"
   ]
  },
  {
   "cell_type": "code",
   "execution_count": 31,
   "id": "ad943810-98c7-4c23-b6dc-0b31802250b1",
   "metadata": {},
   "outputs": [],
   "source": [
    "# cv2.imshow('windows',img_resize)\n",
    "# cv2.waitKey(0)"
   ]
  },
  {
   "cell_type": "markdown",
   "id": "3efaae25-31e0-40e2-a2a7-5684b3345f42",
   "metadata": {},
   "source": [
    "Dynamically"
   ]
  },
  {
   "cell_type": "code",
   "execution_count": 32,
   "id": "dbf5dc39-7524-4db1-b552-fae09c386c80",
   "metadata": {},
   "outputs": [],
   "source": [
    "# img_resize=cv2.resize(img,(img.shape[1]//3,img.shape[0]//3))"
   ]
  },
  {
   "cell_type": "code",
   "execution_count": 33,
   "id": "ce46c063-e04f-4caa-9685-aa93a92d278f",
   "metadata": {},
   "outputs": [],
   "source": [
    "# print(img_resize.shape)"
   ]
  },
  {
   "cell_type": "code",
   "execution_count": 34,
   "id": "abf986be-02dc-42e0-8415-7b0833f0bfb6",
   "metadata": {},
   "outputs": [],
   "source": [
    "# cv2.imshow('windows',img_resize)\n",
    "# cv2.waitKey(0)"
   ]
  },
  {
   "cell_type": "markdown",
   "id": "80b170f0-d50d-46ef-9e39-7f82b20cf56b",
   "metadata": {},
   "source": [
    "Flipping Image"
   ]
  },
  {
   "cell_type": "code",
   "execution_count": 35,
   "id": "b710e33f-1763-4a43-a656-86998f98b1b9",
   "metadata": {},
   "outputs": [],
   "source": [
    "# flip_image=cv2.flip(img,0)\n",
    "# flip_image=cv2.flip(img,-1)"
   ]
  },
  {
   "cell_type": "code",
   "execution_count": 36,
   "id": "0bca1592-352a-48c8-bdc1-6ebbe32d292d",
   "metadata": {},
   "outputs": [],
   "source": [
    "# cv2.imshow('windows',flip_image)\n",
    "# cv2.waitKey(0)"
   ]
  },
  {
   "cell_type": "markdown",
   "id": "a2a13b7a-aa3a-4ad5-9bef-c6a377c2dd5c",
   "metadata": {},
   "source": [
    "<!-- CROP iMAGE -->"
   ]
  },
  {
   "cell_type": "code",
   "execution_count": 37,
   "id": "8afe0e46-c0a9-4884-bae7-28b8e07eae5c",
   "metadata": {},
   "outputs": [],
   "source": [
    "# crop_image=img[100:200,200:300]"
   ]
  },
  {
   "cell_type": "code",
   "execution_count": 38,
   "id": "bf24f37c-0176-46d0-b023-5c0f3df22174",
   "metadata": {},
   "outputs": [],
   "source": [
    "# cv2.imshow('windows',crop_image)\n",
    "# cv2.waitKey(0)"
   ]
  },
  {
   "cell_type": "code",
   "execution_count": 39,
   "id": "3b387d4a-0db8-44e3-9e2d-9ac4e7f1dff7",
   "metadata": {},
   "outputs": [],
   "source": [
    "# cv2.imwrite('sunnyleone.jpeg',crop_image)"
   ]
  },
  {
   "cell_type": "code",
   "execution_count": 40,
   "id": "514f6c6f-db7a-4fe6-a97c-d769466ccd2a",
   "metadata": {},
   "outputs": [],
   "source": [
    "img=cv2.imread('viratkohli.jpeg')"
   ]
  },
  {
   "cell_type": "code",
   "execution_count": 41,
   "id": "0321bb2d-1721-4639-a65f-2b64911b6ba1",
   "metadata": {},
   "outputs": [],
   "source": [
    "# cv2.imshow('window',img)\n",
    "# cv2.waitKey(0)"
   ]
  },
  {
   "cell_type": "markdown",
   "id": "3fe0fc46-d014-468e-9a0c-a37a8ebebcee",
   "metadata": {},
   "source": [
    "# apply on image circle"
   ]
  },
  {
   "cell_type": "code",
   "execution_count": 42,
   "id": "4c1f4cac-e0a5-4a96-b462-a1c61f189074",
   "metadata": {},
   "outputs": [],
   "source": [
    "# def draw(event,x,y,flags,params):\n",
    "#    if event==1:\n",
    "#        cv2.circle(img,center=(x,y),radius=50,color=(255,0,0),thickness=-1)\n",
    "# cv2.namedWindow(winname=\"window\")\n",
    "# cv2.setMouseCallback(\"window\",draw)\n",
    "# while True:\n",
    "#     cv2.imshow('window',img)\n",
    "#     if cv2.waitKey(1)& 0xFF==ord('x'): \n",
    "#         break\n",
    "\n",
    "    \n",
    "# cv2.destroyAllWindows()"
   ]
  },
  {
   "cell_type": "code",
   "execution_count": 14,
   "id": "de9895e5-5a85-4fbb-bbe9-1f03d1e1c9ca",
   "metadata": {},
   "outputs": [],
   "source": [
    "# img=cv2.imread('leone.jpeg')\n",
    "# flag=False\n",
    "# ix=-1\n",
    "# iy=-1\n",
    "# def crop(event,x,y,flags,params):\n",
    "#     global flag,ix,iy\n",
    "#     if event==1:\n",
    "#         flag==True\n",
    "#         ix=x\n",
    "#         iy=y\n",
    "#     elif event==0:\n",
    "#         if flag==True:\n",
    "#          cv2.rectangle(img,pt1=(ix,iy),pt2=(x,y),color=(255,0,0),thickness=1)\n",
    "#     elif event==4:\n",
    "#         fx=x\n",
    "#         fy=y\n",
    "#         flag==False\n",
    "#         cv2.rectangle(img,pt1=(ix,iy),pt2=(x,y),color=(255,0,0),thickness=1)\n",
    "#         crop=img[iy:fy,ix:fx]\n",
    "#         cv2.imshow(\"new_window\",crop)\n",
    "#         cv2.imwrite('sunn.jpeg',crop)\n",
    "#         cv2.waitKey(0)\n",
    "    \n",
    "\n",
    "# cv2.namedWindow(winname=\"window\")\n",
    "# cv2.setMouseCallback(\"window\",crop)\n",
    "# while True:\n",
    "#     cv2.imshow('window',img)\n",
    "#     if cv2.waitKey(1) & 0xFF==ord(\"x\"):\n",
    "#       break\n",
    "# cv2.destroyAllWindows()\n",
    "    "
   ]
  },
  {
   "cell_type": "code",
   "execution_count": 32,
   "id": "b309b08b-d305-4104-a665-a82fd4286b22",
   "metadata": {},
   "outputs": [
    {
     "data": {
      "text/plain": [
       "True"
      ]
     },
     "execution_count": 32,
     "metadata": {},
     "output_type": "execute_result"
    }
   ],
   "source": [
    "import cv2\n",
    "\n",
    "img = cv2.imread(\"viratkohli.jpeg\")\n",
    "cv2.imwrite(\"output.jpg\", img, [cv2.IMWRITE_JPEG_QUALITY, 90])\n"
   ]
  },
  {
   "cell_type": "code",
   "execution_count": null,
   "id": "d3c11946-ff2a-477f-bf64-e7c3d60eb365",
   "metadata": {},
   "outputs": [],
   "source": []
  },
  {
   "cell_type": "code",
   "execution_count": null,
   "id": "22dda914-fb68-405c-ac7f-6427c967c434",
   "metadata": {},
   "outputs": [],
   "source": []
  }
 ],
 "metadata": {
  "kernelspec": {
   "display_name": "Python 3 (ipykernel)",
   "language": "python",
   "name": "python3"
  },
  "language_info": {
   "codemirror_mode": {
    "name": "ipython",
    "version": 3
   },
   "file_extension": ".py",
   "mimetype": "text/x-python",
   "name": "python",
   "nbconvert_exporter": "python",
   "pygments_lexer": "ipython3",
   "version": "3.12.3"
  }
 },
 "nbformat": 4,
 "nbformat_minor": 5
}
