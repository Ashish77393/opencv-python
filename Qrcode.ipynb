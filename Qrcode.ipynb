{
 "cells": [
  {
   "cell_type": "code",
   "execution_count": 1,
   "id": "48b99ce1-053d-4415-8e1f-2bb0f13046f9",
   "metadata": {},
   "outputs": [],
   "source": [
    "import qrcode as qr\n",
    "from PIL import Image"
   ]
  },
  {
   "cell_type": "code",
   "execution_count": 2,
   "id": "561e0b30-9887-41ed-9f61-9287b6a064f4",
   "metadata": {},
   "outputs": [],
   "source": [
    "img=qr.make(\"https://movierecomandationml-ml.streamlit.app/\")\n",
    "img.save(\"movie_recomanded_site.png\")"
   ]
  },
  {
   "cell_type": "code",
   "execution_count": 32,
   "id": "163bd80f-bb34-4245-8dc2-6185dbfe38df",
   "metadata": {},
   "outputs": [],
   "source": [
    "# img=qr.make(\"https://movierecomandationml-ml.streamlit.app/\")"
   ]
  },
  {
   "cell_type": "code",
   "execution_count": 33,
   "id": "cfad22b2-52c5-4d4b-a4b2-7df2eb27c3a9",
   "metadata": {},
   "outputs": [],
   "source": [
    "cf=qr.QRCode(version=1,error_correction=qr.constants.ERROR_CORRECT_H,box_size=5,border=4)"
   ]
  },
  {
   "cell_type": "code",
   "execution_count": 34,
   "id": "1402c918-adef-4143-a90c-49951f214aad",
   "metadata": {},
   "outputs": [],
   "source": [
    "cf.add_data('https://www.youtube.com/@hidustan123')\n",
    "cf.make(fit=True)\n",
    "img=cf.make_image(fill_color=\"blue\",back_color=\"white\")\n",
    "img.save(\"ashishYouTube.png\")"
   ]
  },
  {
   "cell_type": "code",
   "execution_count": null,
   "id": "940577f5-aa99-4655-aa70-8917d0900341",
   "metadata": {},
   "outputs": [],
   "source": []
  },
  {
   "cell_type": "code",
   "execution_count": null,
   "id": "696e08a7-67b0-4572-8b02-c78a6da97945",
   "metadata": {},
   "outputs": [],
   "source": []
  },
  {
   "cell_type": "code",
   "execution_count": null,
   "id": "f55eebc9-29bc-4e7f-b385-8c49f9d44dc0",
   "metadata": {},
   "outputs": [],
   "source": []
  }
 ],
 "metadata": {
  "kernelspec": {
   "display_name": "Python 3 (ipykernel)",
   "language": "python",
   "name": "python3"
  },
  "language_info": {
   "codemirror_mode": {
    "name": "ipython",
    "version": 3
   },
   "file_extension": ".py",
   "mimetype": "text/x-python",
   "name": "python",
   "nbconvert_exporter": "python",
   "pygments_lexer": "ipython3",
   "version": "3.12.3"
  }
 },
 "nbformat": 4,
 "nbformat_minor": 5
}
