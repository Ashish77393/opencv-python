{
 "cells": [
  {
   "cell_type": "code",
   "execution_count": 8,
   "id": "7ef75776-a4c0-4528-9496-5289436d51b9",
   "metadata": {},
   "outputs": [],
   "source": [
    "from instabot import Bot"
   ]
  },
  {
   "cell_type": "code",
   "execution_count": 9,
   "id": "77af611c-5f9a-408c-b509-71058788fc23",
   "metadata": {},
   "outputs": [
    {
     "name": "stderr",
     "output_type": "stream",
     "text": [
      "2024-10-14 22:40:00,920 - INFO - Instabot version: 0.117.0 Started\n",
      "2024-10-14 22:40:00,920 - INFO - Instabot version: 0.117.0 Started\n",
      "2024-10-14 22:40:00,920 - INFO - Instabot version: 0.117.0 Started\n",
      "2024-10-14 22:40:00,920 - INFO - Instabot version: 0.117.0 Started\n",
      "2024-10-14 22:40:00,920 - INFO - Instabot version: 0.117.0 Started\n",
      "2024-10-14 22:40:00,920 - INFO - Instabot version: 0.117.0 Started\n",
      "2024-10-14 22:40:00,926 - INFO - Not yet logged in starting: PRE-LOGIN FLOW!\n",
      "2024-10-14 22:40:00,926 - INFO - Not yet logged in starting: PRE-LOGIN FLOW!\n",
      "2024-10-14 22:40:00,926 - INFO - Not yet logged in starting: PRE-LOGIN FLOW!\n",
      "2024-10-14 22:40:00,926 - INFO - Not yet logged in starting: PRE-LOGIN FLOW!\n",
      "2024-10-14 22:40:00,926 - INFO - Not yet logged in starting: PRE-LOGIN FLOW!\n",
      "2024-10-14 22:40:00,926 - INFO - Not yet logged in starting: PRE-LOGIN FLOW!\n",
      "2024-10-14 22:40:07,887 - ERROR - Request returns 400 error!\n",
      "2024-10-14 22:40:07,887 - ERROR - Request returns 400 error!\n",
      "2024-10-14 22:40:07,887 - ERROR - Request returns 400 error!\n",
      "2024-10-14 22:40:07,887 - ERROR - Request returns 400 error!\n",
      "2024-10-14 22:40:07,887 - ERROR - Request returns 400 error!\n",
      "2024-10-14 22:40:07,887 - ERROR - Request returns 400 error!\n",
      "2024-10-14 22:40:07,893 - INFO - Instagram's error message: The password you entered is incorrect. Please try again.\n",
      "2024-10-14 22:40:07,893 - INFO - Instagram's error message: The password you entered is incorrect. Please try again.\n",
      "2024-10-14 22:40:07,893 - INFO - Instagram's error message: The password you entered is incorrect. Please try again.\n",
      "2024-10-14 22:40:07,893 - INFO - Instagram's error message: The password you entered is incorrect. Please try again.\n",
      "2024-10-14 22:40:07,893 - INFO - Instagram's error message: The password you entered is incorrect. Please try again.\n",
      "2024-10-14 22:40:07,893 - INFO - Instagram's error message: The password you entered is incorrect. Please try again.\n",
      "2024-10-14 22:40:07,898 - INFO - Error type: bad_password\n",
      "2024-10-14 22:40:07,898 - INFO - Error type: bad_password\n",
      "2024-10-14 22:40:07,898 - INFO - Error type: bad_password\n",
      "2024-10-14 22:40:07,898 - INFO - Error type: bad_password\n",
      "2024-10-14 22:40:07,898 - INFO - Error type: bad_password\n",
      "2024-10-14 22:40:07,898 - INFO - Error type: bad_password\n",
      "2024-10-14 22:40:07,904 - ERROR - Failed to login go to instagram and change your password\n",
      "2024-10-14 22:40:07,904 - ERROR - Failed to login go to instagram and change your password\n",
      "2024-10-14 22:40:07,904 - ERROR - Failed to login go to instagram and change your password\n",
      "2024-10-14 22:40:07,904 - ERROR - Failed to login go to instagram and change your password\n",
      "2024-10-14 22:40:07,904 - ERROR - Failed to login go to instagram and change your password\n",
      "2024-10-14 22:40:07,904 - ERROR - Failed to login go to instagram and change your password\n",
      "2024-10-14 22:40:07,911 - INFO - Username or password is incorrect.\n",
      "2024-10-14 22:40:07,911 - INFO - Username or password is incorrect.\n",
      "2024-10-14 22:40:07,911 - INFO - Username or password is incorrect.\n",
      "2024-10-14 22:40:07,911 - INFO - Username or password is incorrect.\n",
      "2024-10-14 22:40:07,911 - INFO - Username or password is incorrect.\n",
      "2024-10-14 22:40:07,911 - INFO - Username or password is incorrect.\n"
     ]
    },
    {
     "ename": "SystemExit",
     "evalue": "",
     "output_type": "error",
     "traceback": [
      "An exception has occurred, use %tb to see the full traceback.\n",
      "\u001b[1;31mSystemExit\u001b[0m\n"
     ]
    },
    {
     "name": "stderr",
     "output_type": "stream",
     "text": [
      "C:\\Users\\Ashish Kumar Singh\\AppData\\Roaming\\Python\\Python312\\site-packages\\IPython\\core\\interactiveshell.py:3585: UserWarning: To exit: use 'exit', 'quit', or Ctrl-D.\n",
      "  warn(\"To exit: use 'exit', 'quit', or Ctrl-D.\", stacklevel=1)\n"
     ]
    }
   ],
   "source": [
    "bot=Bot()\n",
    "bot.login(username='ashishsinghrajput959',password='Ashish@12345')\n",
    "bot.upload_photo('',caption='ashish data')\n",
    "bot.follow('elon mast')\n",
    "bot.send_photo('rohan')\n",
    "followers=bot.get_user_followers('ashish7124')\n",
    "for follower in followers:\n",
    "    print(bot.get_user_info(follower))\n"
   ]
  },
  {
   "cell_type": "code",
   "execution_count": null,
   "id": "94e2dd7d-c1ce-42d3-9fbf-d7cf1354eb93",
   "metadata": {},
   "outputs": [],
   "source": []
  }
 ],
 "metadata": {
  "kernelspec": {
   "display_name": "Python 3 (ipykernel)",
   "language": "python",
   "name": "python3"
  },
  "language_info": {
   "codemirror_mode": {
    "name": "ipython",
    "version": 3
   },
   "file_extension": ".py",
   "mimetype": "text/x-python",
   "name": "python",
   "nbconvert_exporter": "python",
   "pygments_lexer": "ipython3",
   "version": "3.12.3"
  }
 },
 "nbformat": 4,
 "nbformat_minor": 5
}
