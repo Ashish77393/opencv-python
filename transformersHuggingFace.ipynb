{
 "cells": [
  {
   "cell_type": "code",
   "execution_count": 11,
   "id": "7205d900-6593-47f1-b02a-3180fe8c794c",
   "metadata": {},
   "outputs": [
    {
     "data": {
      "application/vnd.jupyter.widget-view+json": {
       "model_id": "3d24670312384275ac58033f33c6b7b8",
       "version_major": 2,
       "version_minor": 0
      },
      "text/plain": [
       "tf_model.h5:   3%|3         | 21.0M/670M [00:00<?, ?B/s]"
      ]
     },
     "metadata": {},
     "output_type": "display_data"
    },
    {
     "name": "stderr",
     "output_type": "stream",
     "text": [
      "Error while downloading from https://cdn-lfs.hf.co/nlptown/bert-base-multilingual-uncased-sentiment/cb7ef0d2a4879de37b6a8824b2c6e213526360d4d89b653d674ff58e220161cb?response-content-disposition=inline%3B+filename*%3DUTF-8%27%27tf_model.h5%3B+filename%3D%22tf_model.h5%22%3B&Expires=1729329120&Policy=eyJTdGF0ZW1lbnQiOlt7IkNvbmRpdGlvbiI6eyJEYXRlTGVzc1RoYW4iOnsiQVdTOkVwb2NoVGltZSI6MTcyOTMyOTEyMH19LCJSZXNvdXJjZSI6Imh0dHBzOi8vY2RuLWxmcy5oZi5jby9ubHB0b3duL2JlcnQtYmFzZS1tdWx0aWxpbmd1YWwtdW5jYXNlZC1zZW50aW1lbnQvY2I3ZWYwZDJhNDg3OWRlMzdiNmE4ODI0YjJjNmUyMTM1MjYzNjBkNGQ4OWI2NTNkNjc0ZmY1OGUyMjAxNjFjYj9yZXNwb25zZS1jb250ZW50LWRpc3Bvc2l0aW9uPSoifV19&Signature=JFucMnJapW7lrsC1IGhkJ1u0R5ayzLmzwaOmds6vphsMk47sPY5t9sNSqg9W%7EH4vBOBwrfBf9xPxSL0FrtwTjK-pZsDrRA9VxIXuxehpAf2cp-Vxg7VXoyh1gWyG84ZfCbKz2rRGkRY2o4oDcZcwByOPK10DdlO-0CBeGEIUFFcMD6vA3EPmCK-sha2s966M9E5I7e4w-tvWLH-VmwGLVg5VJ%7E%7E2Aq9BT4oOhy6yL4N6JEZY6kwWOfBkGLtd4mDknU0gdaJE254FZhGVpTJtSe81AUklNgYZ1nAjiJ%7EAw0dxL%7EYeYde%7E4PZCUsODskCNE2-aCllrFfvmuUCQVRwfgg__&Key-Pair-Id=K3RPWS32NSSJCE: HTTPSConnectionPool(host='cdn-lfs.hf.co', port=443): Read timed out.\n",
      "Trying to resume download...\n"
     ]
    },
    {
     "data": {
      "application/vnd.jupyter.widget-view+json": {
       "model_id": "8303c4aab7d14a7caf0a568cac7292fa",
       "version_major": 2,
       "version_minor": 0
      },
      "text/plain": [
       "tf_model.h5:  55%|#####4    | 367M/670M [00:00<?, ?B/s]"
      ]
     },
     "metadata": {},
     "output_type": "display_data"
    },
    {
     "name": "stderr",
     "output_type": "stream",
     "text": [
      "Error while downloading from https://cdn-lfs.hf.co/nlptown/bert-base-multilingual-uncased-sentiment/cb7ef0d2a4879de37b6a8824b2c6e213526360d4d89b653d674ff58e220161cb?response-content-disposition=inline%3B+filename*%3DUTF-8%27%27tf_model.h5%3B+filename%3D%22tf_model.h5%22%3B&Expires=1729329120&Policy=eyJTdGF0ZW1lbnQiOlt7IkNvbmRpdGlvbiI6eyJEYXRlTGVzc1RoYW4iOnsiQVdTOkVwb2NoVGltZSI6MTcyOTMyOTEyMH19LCJSZXNvdXJjZSI6Imh0dHBzOi8vY2RuLWxmcy5oZi5jby9ubHB0b3duL2JlcnQtYmFzZS1tdWx0aWxpbmd1YWwtdW5jYXNlZC1zZW50aW1lbnQvY2I3ZWYwZDJhNDg3OWRlMzdiNmE4ODI0YjJjNmUyMTM1MjYzNjBkNGQ4OWI2NTNkNjc0ZmY1OGUyMjAxNjFjYj9yZXNwb25zZS1jb250ZW50LWRpc3Bvc2l0aW9uPSoifV19&Signature=JFucMnJapW7lrsC1IGhkJ1u0R5ayzLmzwaOmds6vphsMk47sPY5t9sNSqg9W%7EH4vBOBwrfBf9xPxSL0FrtwTjK-pZsDrRA9VxIXuxehpAf2cp-Vxg7VXoyh1gWyG84ZfCbKz2rRGkRY2o4oDcZcwByOPK10DdlO-0CBeGEIUFFcMD6vA3EPmCK-sha2s966M9E5I7e4w-tvWLH-VmwGLVg5VJ%7E%7E2Aq9BT4oOhy6yL4N6JEZY6kwWOfBkGLtd4mDknU0gdaJE254FZhGVpTJtSe81AUklNgYZ1nAjiJ%7EAw0dxL%7EYeYde%7E4PZCUsODskCNE2-aCllrFfvmuUCQVRwfgg__&Key-Pair-Id=K3RPWS32NSSJCE: HTTPSConnectionPool(host='cdn-lfs.hf.co', port=443): Read timed out.\n",
      "Trying to resume download...\n"
     ]
    },
    {
     "data": {
      "application/vnd.jupyter.widget-view+json": {
       "model_id": "4f5ad9d3bd8d421fb64e64345b96b355",
       "version_major": 2,
       "version_minor": 0
      },
      "text/plain": [
       "tf_model.h5:  72%|#######2  | 482M/670M [00:00<?, ?B/s]"
      ]
     },
     "metadata": {},
     "output_type": "display_data"
    },
    {
     "data": {
      "application/vnd.jupyter.widget-view+json": {
       "model_id": "837c6401e78d4a669e6fb9a91dd50e4e",
       "version_major": 2,
       "version_minor": 0
      },
      "text/plain": [
       "tf_model.h5:  72%|#######2  | 482M/670M [00:00<?, ?B/s]"
      ]
     },
     "metadata": {},
     "output_type": "display_data"
    },
    {
     "name": "stderr",
     "output_type": "stream",
     "text": [
      "Some layers from the model checkpoint at nlptown/bert-base-multilingual-uncased-sentiment were not used when initializing TFBertForSequenceClassification: ['dropout_37']\n",
      "- This IS expected if you are initializing TFBertForSequenceClassification from the checkpoint of a model trained on another task or with another architecture (e.g. initializing a BertForSequenceClassification model from a BertForPreTraining model).\n",
      "- This IS NOT expected if you are initializing TFBertForSequenceClassification from the checkpoint of a model that you expect to be exactly identical (initializing a BertForSequenceClassification model from a BertForSequenceClassification model).\n",
      "All the layers of TFBertForSequenceClassification were initialized from the model checkpoint at nlptown/bert-base-multilingual-uncased-sentiment.\n",
      "If your task is similar to the task the model of the checkpoint was trained on, you can already use TFBertForSequenceClassification for predictions without further training.\n"
     ]
    },
    {
     "data": {
      "application/vnd.jupyter.widget-view+json": {
       "model_id": "667779f74bf445518905e977e0d7fd36",
       "version_major": 2,
       "version_minor": 0
      },
      "text/plain": [
       "tokenizer_config.json:   0%|          | 0.00/39.0 [00:00<?, ?B/s]"
      ]
     },
     "metadata": {},
     "output_type": "display_data"
    },
    {
     "data": {
      "application/vnd.jupyter.widget-view+json": {
       "model_id": "52b3a3d3bf8b42d3be137b99ca0622cb",
       "version_major": 2,
       "version_minor": 0
      },
      "text/plain": [
       "vocab.txt:   0%|          | 0.00/872k [00:00<?, ?B/s]"
      ]
     },
     "metadata": {},
     "output_type": "display_data"
    },
    {
     "data": {
      "application/vnd.jupyter.widget-view+json": {
       "model_id": "a9f650583d13429fb6127892fd8eb4a2",
       "version_major": 2,
       "version_minor": 0
      },
      "text/plain": [
       "special_tokens_map.json:   0%|          | 0.00/112 [00:00<?, ?B/s]"
      ]
     },
     "metadata": {},
     "output_type": "display_data"
    }
   ],
   "source": [
    "from transformers import pipeline\n",
    "\n",
    "classifier = pipeline(\"sentiment-analysis\",model= \"nlptown/bert-base-multilingual-uncased-sentiment\")"
   ]
  },
  {
   "cell_type": "code",
   "execution_count": 12,
   "id": "5571c64a-9b31-477a-8b47-ca8ec9b58e2d",
   "metadata": {},
   "outputs": [
    {
     "data": {
      "text/plain": [
       "[{'label': '5 stars', 'score': 0.7725350856781006}]"
      ]
     },
     "execution_count": 12,
     "metadata": {},
     "output_type": "execute_result"
    }
   ],
   "source": [
    "classifier(\"We are very happy to show you the 🤗 Transformers library.\")"
   ]
  },
  {
   "cell_type": "code",
   "execution_count": 6,
   "id": "354f3f49-ea2e-4fd5-b9ba-71af1c9d720c",
   "metadata": {},
   "outputs": [
    {
     "data": {
      "text/plain": [
       "[{'label': 'POSITIVE', 'score': 0.9785012602806091}]"
      ]
     },
     "execution_count": 6,
     "metadata": {},
     "output_type": "execute_result"
    }
   ],
   "source": [
    "classifier(\"sex is not good for health but masterbation is good for body\" )"
   ]
  },
  {
   "cell_type": "code",
   "execution_count": 7,
   "id": "6a39a8ff-c5a8-4ecf-b311-0466d109ca98",
   "metadata": {},
   "outputs": [
    {
     "name": "stdout",
     "output_type": "stream",
     "text": [
      "label: POSITIVE, with score: 0.9998\n",
      "label: NEGATIVE, with score: 0.5309\n"
     ]
    }
   ],
   "source": [
    "results = classifier([\"We are very happy to show you the 🤗 Transformers library.\", \"We hope you don't hate it.\"])\n",
    "for result in results:\n",
    "    print(f\"label: {result['label']}, with score: {round(result['score'], 4)}\")"
   ]
  },
  {
   "cell_type": "code",
   "execution_count": null,
   "id": "0fd14460-632b-49fa-b277-2f527815eafa",
   "metadata": {},
   "outputs": [],
   "source": []
  }
 ],
 "metadata": {
  "kernelspec": {
   "display_name": "Python 3 (ipykernel)",
   "language": "python",
   "name": "python3"
  },
  "language_info": {
   "codemirror_mode": {
    "name": "ipython",
    "version": 3
   },
   "file_extension": ".py",
   "mimetype": "text/x-python",
   "name": "python",
   "nbconvert_exporter": "python",
   "pygments_lexer": "ipython3",
   "version": "3.12.3"
  }
 },
 "nbformat": 4,
 "nbformat_minor": 5
}
