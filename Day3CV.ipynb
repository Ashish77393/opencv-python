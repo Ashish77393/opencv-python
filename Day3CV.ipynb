{
 "cells": [
  {
   "cell_type": "markdown",
   "id": "2523f821-fc4c-42e1-96e1-842fcbb2f5eb",
   "metadata": {},
   "source": [
    "# Edge Detection "
   ]
  },
  {
   "cell_type": "code",
   "execution_count": 1,
   "id": "36207bdf-b60a-447b-bce1-7fd04dff11b6",
   "metadata": {},
   "outputs": [],
   "source": [
    "import cv2\n",
    "import numpy as np"
   ]
  },
  {
   "cell_type": "code",
   "execution_count": 2,
   "id": "b3bf893a-65b1-4459-a25f-1d50f658dbad",
   "metadata": {},
   "outputs": [],
   "source": [
    "img=cv2.imread(\"viratkohli.jpeg\")\n",
    "img=cv2.resize(img,(500,500))\n",
    "img=cv2.Canny(img,100,100,1)\n",
    "cv2.imshow(\"windows\",img)\n",
    "cv2.waitKey(0)\n",
    "cv2.destroyAllWindows()"
   ]
  },
  {
   "cell_type": "markdown",
   "id": "0ceeabf9-d9c6-4ad3-b8bf-ec033228147c",
   "metadata": {},
   "source": [
    "# image Bluring using opencv"
   ]
  },
  {
   "cell_type": "code",
   "execution_count": 3,
   "id": "2f90f5cb-a1de-4ee4-9cb2-5c0393230611",
   "metadata": {},
   "outputs": [],
   "source": [
    "img2=cv2.imread(\"viratkohli.jpeg\")\n",
    "res=cv2.resize(img2,(300,300))\n",
    "g=cv2.GaussianBlur(res,(9,9),0)\n",
    "m=cv2.medianBlur(res,5)\n",
    "h=np.hstack((res,g,m)) \n",
    "cv2.imshow('windows',h)\n",
    "cv2.waitKey(0)\n",
    "cv2.destroyAllWindows()"
   ]
  },
  {
   "cell_type": "markdown",
   "id": "3bc56269-c773-48ac-9c47-7fe263d01d67",
   "metadata": {},
   "source": [
    "# imwrite method is used to saved image"
   ]
  },
  {
   "cell_type": "code",
   "execution_count": 4,
   "id": "a9c155f3-1bd2-4661-8e21-ec6ed39fe349",
   "metadata": {},
   "outputs": [],
   "source": [
    "img3=cv2.imread(\"th (2).jpeg\")\n",
    "img3=cv2.resize(img3,(300,300))\n",
    "h=np.hstack((img3,img3))\n",
    "v=np.vstack((h,h))\n",
    "cv2.imwrite(\"merge.png\",v)\n",
    "cv2.imshow(\"windows\",v)\n",
    "cv2.waitKey(0)\n",
    "cv2.destroyAllWindows()"
   ]
  },
  {
   "cell_type": "markdown",
   "id": "483dd022-f279-46f0-9090-14b37119eba1",
   "metadata": {},
   "source": [
    "# play a video using opencv"
   ]
  },
  {
   "cell_type": "code",
   "execution_count": 5,
   "id": "416e9c1a-033c-48b1-a303-24fba8fa6336",
   "metadata": {},
   "outputs": [],
   "source": [
    "cap=cv2.VideoCapture(\"Love-Shayari-Instagram-Status-Videos.mp4\")\n",
    "while cap.isOpened(): \n",
    "    r,frame=cap.read()\n",
    "    if r==True:\n",
    "        frame=cv2.resize(frame,(600,600))\n",
    "        cv2.imshow(\"windows\",frame)\n",
    "        if cv2.waitKey(25) & 0xff== ord('x'):\n",
    "          break\n",
    "    else:\n",
    "        break\n",
    "cap.release()\n",
    "cv2.destroyAllWindows()"
   ]
  },
  {
   "cell_type": "markdown",
   "id": "1e06e66d-2eed-49f5-9213-de2d27092fa5",
   "metadata": {},
   "source": [
    "# capture video from camera using opencv"
   ]
  },
  {
   "cell_type": "code",
   "execution_count": 6,
   "id": "c40ca0ca-0bd4-4d11-abb0-de275f6c661d",
   "metadata": {},
   "outputs": [],
   "source": [
    "cap=cv2.VideoCapture(0)\n",
    "while True:\n",
    "    r,frame=cap.read()\n",
    "    if r==True:\n",
    "        frame=cv2.resize(frame,(600,600))\n",
    "        cv2.imshow(\"windows\",frame)\n",
    "        if cv2.waitKey(10) & 0xff== ord('x'):\n",
    "          break\n",
    "    else:\n",
    "        break\n",
    "cap.release()\n",
    "cv2.destroyAllWindows()"
   ]
  },
  {
   "cell_type": "markdown",
   "id": "6ff50ab1-5fd7-4713-a7e1-51a7cf9bc4fb",
   "metadata": {},
   "source": [
    "# slow and Fast Motion Video"
   ]
  },
  {
   "cell_type": "code",
   "execution_count": 10,
   "id": "3e06d8ef-33f8-44c3-9577-0c5393aa01ab",
   "metadata": {},
   "outputs": [],
   "source": [
    "cap=cv2.VideoCapture(\"Love-Shayari-Instagram-Status-Videos.mp4\")\n",
    "while cap.isOpened():\n",
    "    ret,frame=cap.read()\n",
    "    frame=cv2.resize(frame,(600,600))\n",
    "    if ret ==True:\n",
    "        cv2.imshow('windows',frame)\n",
    "        if cv2.waitKey(10) & 0xff==ord('x'): \n",
    "            break \n",
    "    else:\n",
    "        break \n",
    "cap.release()\n",
    "cv2.destroyAllWindows()"
   ]
  },
  {
   "cell_type": "code",
   "execution_count": null,
   "id": "1f2a4f93-7838-4b7b-a660-5a6ab967d9e2",
   "metadata": {},
   "outputs": [],
   "source": []
  }
 ],
 "metadata": {
  "kernelspec": {
   "display_name": "Python 3 (ipykernel)",
   "language": "python",
   "name": "python3"
  },
  "language_info": {
   "codemirror_mode": {
    "name": "ipython",
    "version": 3
   },
   "file_extension": ".py",
   "mimetype": "text/x-python",
   "name": "python",
   "nbconvert_exporter": "python",
   "pygments_lexer": "ipython3",
   "version": "3.12.3"
  }
 },
 "nbformat": 4,
 "nbformat_minor": 5
}
