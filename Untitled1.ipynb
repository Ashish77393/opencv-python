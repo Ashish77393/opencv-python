{
 "cells": [
  {
   "cell_type": "code",
   "execution_count": 3,
   "id": "607b6477-6b8d-4471-8a8e-0a43ce281385",
   "metadata": {},
   "outputs": [],
   "source": [
    "import gtts\n",
    "import playsound"
   ]
  },
  {
   "cell_type": "code",
   "execution_count": null,
   "id": "9eaa4323-5fab-4944-a5fd-d91667918af0",
   "metadata": {},
   "outputs": [],
   "source": [
    "text=input(\"enter text\")\n",
    "sound=gtts.gTTS(text,lang='fr')\n",
    "sound.save('text_to_speach2.mp3')\n",
    "playsound.playsound('text_to_speach.mp3')"
   ]
  },
  {
   "cell_type": "code",
   "execution_count": null,
   "id": "6b066023-2327-4b94-996d-2dac4b89ebc2",
   "metadata": {},
   "outputs": [],
   "source": []
  }
 ],
 "metadata": {
  "kernelspec": {
   "display_name": "Python 3 (ipykernel)",
   "language": "python",
   "name": "python3"
  },
  "language_info": {
   "codemirror_mode": {
    "name": "ipython",
    "version": 3
   },
   "file_extension": ".py",
   "mimetype": "text/x-python",
   "name": "python",
   "nbconvert_exporter": "python",
   "pygments_lexer": "ipython3",
   "version": "3.12.3"
  }
 },
 "nbformat": 4,
 "nbformat_minor": 5
}
