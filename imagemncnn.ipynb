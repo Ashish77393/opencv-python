{
 "cells": [
  {
   "cell_type": "code",
   "execution_count": 5,
   "id": "efd7d334-b63c-4774-a72d-668f615365c8",
   "metadata": {},
   "outputs": [],
   "source": [
    "from mtcnn import MTCNN"
   ]
  },
  {
   "cell_type": "code",
   "execution_count": 6,
   "id": "b740a618-9c05-4b09-bcf2-5daa4bddbbdc",
   "metadata": {},
   "outputs": [],
   "source": [
    "import cv2"
   ]
  },
  {
   "cell_type": "code",
   "execution_count": 7,
   "id": "8d158b2b-daed-4c5a-9f10-5878957ad731",
   "metadata": {},
   "outputs": [],
   "source": [
    "detector=MTCNN()"
   ]
  },
  {
   "cell_type": "markdown",
   "id": "b3489438-2f05-4eff-876d-749294419468",
   "metadata": {},
   "source": [
    "<!-- Single Face Recongiation  -->"
   ]
  },
  {
   "cell_type": "code",
   "execution_count": 8,
   "id": "3363abc3-a921-439c-bdac-6d4acd1d6c87",
   "metadata": {},
   "outputs": [],
   "source": [
    "img = cv2.imread('group-of-business-people-scaled.webp')\n",
    "if img is None:\n",
    "    print(\"Image not loaded properly.\")"
   ]
  },
  {
   "cell_type": "code",
   "execution_count": 9,
   "id": "dc040595-97ec-4274-8c01-7ce9c661daf1",
   "metadata": {},
   "outputs": [
    {
     "name": "stdout",
     "output_type": "stream",
     "text": [
      "\u001b[1m1/1\u001b[0m \u001b[32m━━━━━━━━━━━━━━━━━━━━\u001b[0m\u001b[37m\u001b[0m \u001b[1m0s\u001b[0m 470ms/step\n",
      "\u001b[1m1/1\u001b[0m \u001b[32m━━━━━━━━━━━━━━━━━━━━\u001b[0m\u001b[37m\u001b[0m \u001b[1m0s\u001b[0m 278ms/step\n",
      "\u001b[1m1/1\u001b[0m \u001b[32m━━━━━━━━━━━━━━━━━━━━\u001b[0m\u001b[37m\u001b[0m \u001b[1m0s\u001b[0m 86ms/step\n",
      "\u001b[1m1/1\u001b[0m \u001b[32m━━━━━━━━━━━━━━━━━━━━\u001b[0m\u001b[37m\u001b[0m \u001b[1m0s\u001b[0m 73ms/step\n",
      "\u001b[1m1/1\u001b[0m \u001b[32m━━━━━━━━━━━━━━━━━━━━\u001b[0m\u001b[37m\u001b[0m \u001b[1m0s\u001b[0m 61ms/step\n",
      "\u001b[1m1/1\u001b[0m \u001b[32m━━━━━━━━━━━━━━━━━━━━\u001b[0m\u001b[37m\u001b[0m \u001b[1m0s\u001b[0m 65ms/step\n",
      "\u001b[1m1/1\u001b[0m \u001b[32m━━━━━━━━━━━━━━━━━━━━\u001b[0m\u001b[37m\u001b[0m \u001b[1m0s\u001b[0m 69ms/step\n",
      "\u001b[1m1/1\u001b[0m \u001b[32m━━━━━━━━━━━━━━━━━━━━\u001b[0m\u001b[37m\u001b[0m \u001b[1m0s\u001b[0m 62ms/step\n",
      "\u001b[1m1/1\u001b[0m \u001b[32m━━━━━━━━━━━━━━━━━━━━\u001b[0m\u001b[37m\u001b[0m \u001b[1m0s\u001b[0m 65ms/step\n",
      "\u001b[1m1/1\u001b[0m \u001b[32m━━━━━━━━━━━━━━━━━━━━\u001b[0m\u001b[37m\u001b[0m \u001b[1m0s\u001b[0m 75ms/step\n",
      "\u001b[1m1/1\u001b[0m \u001b[32m━━━━━━━━━━━━━━━━━━━━\u001b[0m\u001b[37m\u001b[0m \u001b[1m0s\u001b[0m 76ms/step\n",
      "\u001b[1m1/1\u001b[0m \u001b[32m━━━━━━━━━━━━━━━━━━━━\u001b[0m\u001b[37m\u001b[0m \u001b[1m0s\u001b[0m 64ms/step\n",
      "\u001b[1m1/1\u001b[0m \u001b[32m━━━━━━━━━━━━━━━━━━━━\u001b[0m\u001b[37m\u001b[0m \u001b[1m0s\u001b[0m 57ms/step\n",
      "\u001b[1m23/23\u001b[0m \u001b[32m━━━━━━━━━━━━━━━━━━━━\u001b[0m\u001b[37m\u001b[0m \u001b[1m1s\u001b[0m 20ms/step\n",
      "\u001b[1m1/1\u001b[0m \u001b[32m━━━━━━━━━━━━━━━━━━━━\u001b[0m\u001b[37m\u001b[0m \u001b[1m0s\u001b[0m 312ms/step\n"
     ]
    }
   ],
   "source": [
    "output=detector.detect_faces(img)"
   ]
  },
  {
   "cell_type": "code",
   "execution_count": 10,
   "id": "49c8aeaa-d5ea-4ae4-959f-0a4029afed3b",
   "metadata": {},
   "outputs": [],
   "source": [
    "# x,y,width,height=output[0]['box']\n",
    "# cv2.rectangle(img,pt1=(x,y),pt2=(x+width,y+height),color=(255,0,0),thickness=3)"
   ]
  },
  {
   "cell_type": "code",
   "execution_count": 14,
   "id": "da9a2c32-7744-451f-8428-d92e2d47db54",
   "metadata": {},
   "outputs": [
    {
     "name": "stdout",
     "output_type": "stream",
     "text": [
      "[{'box': [270, 273, 158, 199], 'confidence': 0.9999556541442871, 'keypoints': {'left_eye': (317, 341), 'right_eye': (391, 347), 'nose': (357, 371), 'mouth_left': (314, 410), 'mouth_right': (389, 416)}}, {'box': [759, 322, 134, 176], 'confidence': 0.9997938275337219, 'keypoints': {'left_eye': (799, 381), 'right_eye': (862, 395), 'nose': (824, 421), 'mouth_left': (786, 442), 'mouth_right': (851, 455)}}, {'box': [1803, 216, 164, 206], 'confidence': 0.9996320009231567, 'keypoints': {'left_eye': (1847, 300), 'right_eye': (1919, 293), 'nose': (1885, 341), 'mouth_left': (1855, 371), 'mouth_right': (1927, 364)}}, {'box': [1541, 261, 164, 216], 'confidence': 0.9993792772293091, 'keypoints': {'left_eye': (1577, 344), 'right_eye': (1657, 346), 'nose': (1607, 388), 'mouth_left': (1576, 417), 'mouth_right': (1656, 420)}}, {'box': [517, 280, 175, 225], 'confidence': 0.9991834759712219, 'keypoints': {'left_eye': (574, 362), 'right_eye': (650, 382), 'nose': (604, 414), 'mouth_left': (553, 432), 'mouth_right': (635, 452)}}, {'box': [58, 158, 192, 253], 'confidence': 0.998123824596405, 'keypoints': {'left_eye': (118, 263), 'right_eye': (205, 260), 'nose': (169, 313), 'mouth_left': (120, 347), 'mouth_right': (208, 346)}}, {'box': [1329, 296, 140, 182], 'confidence': 0.998072624206543, 'keypoints': {'left_eye': (1371, 359), 'right_eye': (1435, 372), 'nose': (1396, 400), 'mouth_left': (1358, 418), 'mouth_right': (1425, 433)}}, {'box': [1024, 231, 168, 216], 'confidence': 0.9915584325790405, 'keypoints': {'left_eye': (1069, 316), 'right_eye': (1147, 317), 'nose': (1104, 361), 'mouth_left': (1065, 392), 'mouth_right': (1148, 392)}}]\n"
     ]
    }
   ],
   "source": [
    "print(output)"
   ]
  },
  {
   "cell_type": "code",
   "execution_count": 11,
   "id": "0499d376-785d-407e-8535-7cc75a517216",
   "metadata": {},
   "outputs": [],
   "source": [
    "# cv2.imshow('window',img)\n",
    "# cv2.waitKey(0)"
   ]
  },
  {
   "cell_type": "code",
   "execution_count": null,
   "id": "8c1f5018-3874-49f3-8194-eaeb751ddd88",
   "metadata": {},
   "outputs": [],
   "source": []
  },
  {
   "cell_type": "markdown",
   "id": "f755fd6c-14a8-4d67-86f1-17505cb27467",
   "metadata": {},
   "source": [
    "<!-- Detching Facial LandMark -->"
   ]
  },
  {
   "cell_type": "code",
   "execution_count": 12,
   "id": "d906253f-927f-4e7c-aa4f-13ac1e0d446c",
   "metadata": {},
   "outputs": [],
   "source": [
    "for i in output:\n",
    " x,y,width,height=i['box']\n",
    " cv2.rectangle(img,pt1=(x,y),pt2=(x+width,y+height),color=(255,0,0))\n",
    " left_eyeX,left_eyeY=i['keypoints']['left_eye']\n",
    " right_eyeX,right_eyeY=i['keypoints']['right_eye']\n",
    " noseX,noseY=i['keypoints']['nose']\n",
    " mouth_leftX,mouth_leftY=i['keypoints']['mouth_left']\n",
    " mouth_rightX,mouth_rightY=i['keypoints']['mouth_right']\n",
    "\n",
    "\n",
    " cv2.circle(img,center=(left_eyeX,left_eyeY),color=(255,0,0),thickness=1,radius=5)\n",
    " cv2.circle(img,center=(right_eyeX,right_eyeY),color=(255,0,0),thickness=1,radius=5)\n",
    " cv2.circle(img,center=(noseX,noseY),color=(255,0,0),thickness=1,radius=5)\n",
    " cv2.circle(img,center=(mouth_leftX,mouth_leftY),color=(255,0,0),thickness=1,radius=5)\n",
    " cv2.circle(img,center=(mouth_rightX,mouth_rightY),color=(255,0,0),thickness=1,radius=5)"
   ]
  },
  {
   "cell_type": "code",
   "execution_count": null,
   "id": "0c049274-59db-496b-a0bc-970ec72c9a99",
   "metadata": {},
   "outputs": [],
   "source": []
  },
  {
   "cell_type": "code",
   "execution_count": 13,
   "id": "204ce7f9-24c6-4c04-a05b-983b935b545d",
   "metadata": {},
   "outputs": [
    {
     "data": {
      "text/plain": [
       "-1"
      ]
     },
     "execution_count": 13,
     "metadata": {},
     "output_type": "execute_result"
    }
   ],
   "source": [
    "cv2.imshow('window',img)\n",
    "cv2.waitKey(0)"
   ]
  },
  {
   "cell_type": "code",
   "execution_count": null,
   "id": "562f3a61-7a4f-4381-98d7-4115e42e2a4a",
   "metadata": {},
   "outputs": [],
   "source": []
  },
  {
   "cell_type": "code",
   "execution_count": null,
   "id": "a2efe56e-f579-4210-b10c-a6111e210fa2",
   "metadata": {},
   "outputs": [],
   "source": []
  }
 ],
 "metadata": {
  "kernelspec": {
   "display_name": "Python 3 (ipykernel)",
   "language": "python",
   "name": "python3"
  },
  "language_info": {
   "codemirror_mode": {
    "name": "ipython",
    "version": 3
   },
   "file_extension": ".py",
   "mimetype": "text/x-python",
   "name": "python",
   "nbconvert_exporter": "python",
   "pygments_lexer": "ipython3",
   "version": "3.12.3"
  }
 },
 "nbformat": 4,
 "nbformat_minor": 5
}
