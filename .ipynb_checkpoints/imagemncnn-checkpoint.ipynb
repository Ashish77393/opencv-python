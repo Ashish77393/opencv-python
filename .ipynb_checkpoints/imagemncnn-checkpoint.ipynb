{
 "cells": [
  {
   "cell_type": "code",
   "execution_count": 1,
   "id": "efd7d334-b63c-4774-a72d-668f615365c8",
   "metadata": {},
   "outputs": [],
   "source": [
    "from mtcnn import MTCNN"
   ]
  },
  {
   "cell_type": "code",
   "execution_count": 2,
   "id": "b740a618-9c05-4b09-bcf2-5daa4bddbbdc",
   "metadata": {},
   "outputs": [],
   "source": [
    "import cv2"
   ]
  },
  {
   "cell_type": "code",
   "execution_count": 3,
   "id": "8d158b2b-daed-4c5a-9f10-5878957ad731",
   "metadata": {},
   "outputs": [],
   "source": [
    "detector=MTCNN()"
   ]
  },
  {
   "cell_type": "markdown",
   "id": "b3489438-2f05-4eff-876d-749294419468",
   "metadata": {},
   "source": [
    "<!-- Single Face Recongiation  -->"
   ]
  },
  {
   "cell_type": "code",
   "execution_count": 4,
   "id": "3363abc3-a921-439c-bdac-6d4acd1d6c87",
   "metadata": {},
   "outputs": [],
   "source": [
    "img = cv2.imread('group-of-business-people-scaled.webp')\n",
    "if img is None:\n",
    "    print(\"Image not loaded properly.\")"
   ]
  },
  {
   "cell_type": "code",
   "execution_count": 5,
   "id": "dc040595-97ec-4274-8c01-7ce9c661daf1",
   "metadata": {},
   "outputs": [
    {
     "name": "stdout",
     "output_type": "stream",
     "text": [
      "\u001b[1m1/1\u001b[0m \u001b[32m━━━━━━━━━━━━━━━━━━━━\u001b[0m\u001b[37m\u001b[0m \u001b[1m0s\u001b[0m 340ms/step\n",
      "\u001b[1m1/1\u001b[0m \u001b[32m━━━━━━━━━━━━━━━━━━━━\u001b[0m\u001b[37m\u001b[0m \u001b[1m0s\u001b[0m 218ms/step\n",
      "\u001b[1m1/1\u001b[0m \u001b[32m━━━━━━━━━━━━━━━━━━━━\u001b[0m\u001b[37m\u001b[0m \u001b[1m0s\u001b[0m 58ms/step\n",
      "\u001b[1m1/1\u001b[0m \u001b[32m━━━━━━━━━━━━━━━━━━━━\u001b[0m\u001b[37m\u001b[0m \u001b[1m0s\u001b[0m 51ms/step\n",
      "\u001b[1m1/1\u001b[0m \u001b[32m━━━━━━━━━━━━━━━━━━━━\u001b[0m\u001b[37m\u001b[0m \u001b[1m0s\u001b[0m 42ms/step\n",
      "\u001b[1m1/1\u001b[0m \u001b[32m━━━━━━━━━━━━━━━━━━━━\u001b[0m\u001b[37m\u001b[0m \u001b[1m0s\u001b[0m 43ms/step\n",
      "\u001b[1m1/1\u001b[0m \u001b[32m━━━━━━━━━━━━━━━━━━━━\u001b[0m\u001b[37m\u001b[0m \u001b[1m0s\u001b[0m 51ms/step\n",
      "\u001b[1m1/1\u001b[0m \u001b[32m━━━━━━━━━━━━━━━━━━━━\u001b[0m\u001b[37m\u001b[0m \u001b[1m0s\u001b[0m 51ms/step\n",
      "\u001b[1m1/1\u001b[0m \u001b[32m━━━━━━━━━━━━━━━━━━━━\u001b[0m\u001b[37m\u001b[0m \u001b[1m0s\u001b[0m 33ms/step\n",
      "\u001b[1m1/1\u001b[0m \u001b[32m━━━━━━━━━━━━━━━━━━━━\u001b[0m\u001b[37m\u001b[0m \u001b[1m0s\u001b[0m 38ms/step\n",
      "\u001b[1m1/1\u001b[0m \u001b[32m━━━━━━━━━━━━━━━━━━━━\u001b[0m\u001b[37m\u001b[0m \u001b[1m0s\u001b[0m 44ms/step\n",
      "\u001b[1m1/1\u001b[0m \u001b[32m━━━━━━━━━━━━━━━━━━━━\u001b[0m\u001b[37m\u001b[0m \u001b[1m0s\u001b[0m 61ms/step\n",
      "\u001b[1m1/1\u001b[0m \u001b[32m━━━━━━━━━━━━━━━━━━━━\u001b[0m\u001b[37m\u001b[0m \u001b[1m0s\u001b[0m 64ms/step\n",
      "\u001b[1m23/23\u001b[0m \u001b[32m━━━━━━━━━━━━━━━━━━━━\u001b[0m\u001b[37m\u001b[0m \u001b[1m1s\u001b[0m 16ms/step\n",
      "\u001b[1m1/1\u001b[0m \u001b[32m━━━━━━━━━━━━━━━━━━━━\u001b[0m\u001b[37m\u001b[0m \u001b[1m0s\u001b[0m 252ms/step\n"
     ]
    }
   ],
   "source": [
    "output=detector.detect_faces(img)"
   ]
  },
  {
   "cell_type": "code",
   "execution_count": 6,
   "id": "49c8aeaa-d5ea-4ae4-959f-0a4029afed3b",
   "metadata": {},
   "outputs": [],
   "source": [
    "# x,y,width,height=output[0]['box']\n",
    "# cv2.rectangle(img,pt1=(x,y),pt2=(x+width,y+height),color=(255,0,0),thickness=3)"
   ]
  },
  {
   "cell_type": "code",
   "execution_count": 7,
   "id": "0499d376-785d-407e-8535-7cc75a517216",
   "metadata": {},
   "outputs": [],
   "source": [
    "# cv2.imshow('window',img)\n",
    "# cv2.waitKey(0)"
   ]
  },
  {
   "cell_type": "code",
   "execution_count": null,
   "id": "8c1f5018-3874-49f3-8194-eaeb751ddd88",
   "metadata": {},
   "outputs": [],
   "source": []
  },
  {
   "cell_type": "markdown",
   "id": "f755fd6c-14a8-4d67-86f1-17505cb27467",
   "metadata": {},
   "source": [
    "<!-- Detching Facial LandMark -->"
   ]
  },
  {
   "cell_type": "code",
   "execution_count": 8,
   "id": "d906253f-927f-4e7c-aa4f-13ac1e0d446c",
   "metadata": {},
   "outputs": [],
   "source": [
    "for i in output:\n",
    " x,y,width,height=i['box']\n",
    " cv2.rectangle(img,pt1=(x,y),pt2=(x+width,y+height),color=(255,0,0))\n",
    " left_eyeX,left_eyeY=i['keypoints']['left_eye']\n",
    " right_eyeX,right_eyeY=i['keypoints']['right_eye']\n",
    " noseX,noseY=i['keypoints']['nose']\n",
    " mouth_leftX,mouth_leftY=i['keypoints']['mouth_left']\n",
    " mouth_rightX,mouth_rightY=i['keypoints']['mouth_right']\n",
    "\n",
    "\n",
    " cv2.circle(img,center=(left_eyeX,left_eyeY),color=(255,0,0),thickness=1,radius=5)\n",
    " cv2.circle(img,center=(right_eyeX,right_eyeY),color=(255,0,0),thickness=1,radius=5)\n",
    " cv2.circle(img,center=(noseX,noseY),color=(255,0,0),thickness=1,radius=5)\n",
    " cv2.circle(img,center=(mouth_leftX,mouth_leftY),color=(255,0,0),thickness=1,radius=5)\n",
    " cv2.circle(img,center=(mouth_rightX,mouth_rightY),color=(255,0,0),thickness=1,radius=5)"
   ]
  },
  {
   "cell_type": "code",
   "execution_count": null,
   "id": "0c049274-59db-496b-a0bc-970ec72c9a99",
   "metadata": {},
   "outputs": [],
   "source": []
  },
  {
   "cell_type": "code",
   "execution_count": 9,
   "id": "204ce7f9-24c6-4c04-a05b-983b935b545d",
   "metadata": {},
   "outputs": [
    {
     "data": {
      "text/plain": [
       "-1"
      ]
     },
     "execution_count": 9,
     "metadata": {},
     "output_type": "execute_result"
    }
   ],
   "source": [
    "cv2.imshow('window',img)\n",
    "cv2.waitKey(0)"
   ]
  },
  {
   "cell_type": "code",
   "execution_count": null,
   "id": "562f3a61-7a4f-4381-98d7-4115e42e2a4a",
   "metadata": {},
   "outputs": [],
   "source": []
  },
  {
   "cell_type": "code",
   "execution_count": null,
   "id": "a2efe56e-f579-4210-b10c-a6111e210fa2",
   "metadata": {},
   "outputs": [],
   "source": []
  }
 ],
 "metadata": {
  "kernelspec": {
   "display_name": "Python 3 (ipykernel)",
   "language": "python",
   "name": "python3"
  },
  "language_info": {
   "codemirror_mode": {
    "name": "ipython",
    "version": 3
   },
   "file_extension": ".py",
   "mimetype": "text/x-python",
   "name": "python",
   "nbconvert_exporter": "python",
   "pygments_lexer": "ipython3",
   "version": "3.12.3"
  }
 },
 "nbformat": 4,
 "nbformat_minor": 5
}
