{
 "cells": [
  {
   "cell_type": "markdown",
   "id": "1526b67d-d5de-4518-94a0-34503fcc3b37",
   "metadata": {},
   "source": [
    "# image scrooling one and one "
   ]
  },
  {
   "cell_type": "code",
   "execution_count": 66,
   "id": "8bd867d4-3585-483c-87c8-b3be24ba509c",
   "metadata": {},
   "outputs": [],
   "source": [
    "import cv2\n",
    "import numpy as np"
   ]
  },
  {
   "cell_type": "code",
   "execution_count": 67,
   "id": "064891c4-60c2-4232-a506-25d64630c1ae",
   "metadata": {},
   "outputs": [],
   "source": [
    "import os\n",
    "path=os.listdir(r\"E:\\mtcnn\\imagefol\")"
   ]
  },
  {
   "cell_type": "code",
   "execution_count": 68,
   "id": "ae79b357-c283-4d7e-941a-8df57bb1300a",
   "metadata": {},
   "outputs": [],
   "source": [
    "list_img=os.listdir(r\"E:\\mtcnn\\imagefol\")\n",
    "for image in list_img:\n",
    "    path=\"E:\\\\mtcnn\\\\imagefol\"\n",
    "    img_show=path+ \"\\\\\" +image\n",
    "    img=cv2.imread(img_show)\n",
    "    if img is None:\n",
    "     print(f\"Error loading image: {img_show}\")\n",
    "    else:\n",
    "     img = cv2.resize(img, (300, 300))\n",
    "     cv2.imshow(\"window\", img)\n",
    "     cv2.waitKey(0)\n",
    "    cv2.destroyAllWindows()"
   ]
  },
  {
   "cell_type": "markdown",
   "id": "dbbf119d-82b5-4e14-9b85-4810f18f04b7",
   "metadata": {},
   "source": [
    "# IMread and iimg_show"
   ]
  },
  {
   "cell_type": "code",
   "execution_count": 69,
   "id": "4bb17368-d010-4cfd-8d36-b0c6dd4bcfd6",
   "metadata": {},
   "outputs": [],
   "source": [
    "# color_scale\n",
    "img1=cv2.imread(\"sunn.jpeg\",1)\n",
    "img1=cv2.resize(img1,(400,400))\n",
    "cv2.imshow(\"image\",img1) \n",
    "cv2.waitKey(0)\n",
    "cv2.destroyAllWindows()"
   ]
  },
  {
   "cell_type": "code",
   "execution_count": 70,
   "id": "ad8913ed-efc8-4732-8a3a-e803e36e6363",
   "metadata": {},
   "outputs": [],
   "source": [
    "# GreyScale\n",
    "img1=cv2.imread(\"sunn.jpeg\",0)\n",
    "img1=cv2.resize(img1,(400,400))\n",
    "cv2.imshow(\"image\",img1) \n",
    "cv2.waitKey(0)\n",
    "cv2.destroyAllWindows()"
   ]
  },
  {
   "cell_type": "markdown",
   "id": "ccaf581d-70ae-467e-90b7-391131aecfa2",
   "metadata": {},
   "source": [
    "# text Over an Image"
   ]
  },
  {
   "cell_type": "code",
   "execution_count": 71,
   "id": "3e309142-2a19-4024-b68d-a6e830243377",
   "metadata": {},
   "outputs": [],
   "source": [
    "img2=cv2.imread(\"sunnyleone.jpeg\")\n",
    "img2=cv2.resize(img2,(400,400))\n",
    "img2=cv2.putText(img2,\"PornStar\",(100,60),cv2.FONT_HERSHEY_DUPLEX,1,(255,0,255),2,cv2.LINE_8)\n",
    "cv2.imshow(\"window\",img2)\n",
    "cv2.waitKey(0)\n",
    "cv2.destroyAllWindows()"
   ]
  },
  {
   "cell_type": "code",
   "execution_count": 72,
   "id": "d25576c3-005d-4499-b06e-7b7d82ba3e99",
   "metadata": {},
   "outputs": [],
   "source": [
    "# draw line on image \n",
    "img3=cv2.imread(\"sunnyleone.jpeg\")\n",
    "img3=cv2.resize(img3,(500,500))\n",
    "img3=cv2.putText(img3,\"PornStar\",(100,60),cv2.FONT_HERSHEY_DUPLEX,1,(255,0,255),2,cv2.LINE_8)\n",
    "img3=cv2.line(img3,(150,150),(300,150),(0,255,255),2,cv2.LINE_4)\n",
    "cv2.imshow(\"windows\",img3)\n",
    "cv2.waitKey(0)\n",
    "cv2.destroyAllWindows()"
   ]
  },
  {
   "cell_type": "code",
   "execution_count": 73,
   "id": "a3327566-e2cf-4254-ab75-2303723cc7b8",
   "metadata": {},
   "outputs": [],
   "source": [
    "# draw rectangel on image \n",
    "img3=cv2.imread(\"sunnyleone.jpeg\")\n",
    "img3=cv2.resize(img3,(500,500))\n",
    "img3=cv2.putText(img3,\"sunnyleone\",(150,140),cv2.FONT_HERSHEY_DUPLEX,1,(255,0,255),2,cv2.LINE_8)\n",
    "img3=cv2.rectangle(img3,(130,150),(370,460),(0,255,255),2,cv2.LINE_4)\n",
    "cv2.imshow(\"windows\",img3)\n",
    "cv2.waitKey(0)\n",
    "cv2.destroyAllWindows()"
   ]
  },
  {
   "cell_type": "code",
   "execution_count": 74,
   "id": "eb48bb68-3a68-4bc9-9e82-632626499cb7",
   "metadata": {},
   "outputs": [],
   "source": [
    "# draw circle on image \n",
    "img3=cv2.imread(\"sunnyleone.jpeg\")\n",
    "img3=cv2.resize(img3,(500,500))\n",
    "img3=cv2.putText(img3,\"sunnyleone\",(150,220),cv2.FONT_HERSHEY_DUPLEX,1,(255,0,255),2,cv2.LINE_8)\n",
    "img3=cv2.circle(img3,(240,300),160,(255,45,255),-1)\n",
    "cv2.imshow(\"windows\",img3)\n",
    "cv2.waitKey(0)\n",
    "cv2.destroyAllWindows()"
   ]
  },
  {
   "cell_type": "markdown",
   "id": "3b615c3d-7c2a-4f3b-a9c2-97e538c242c2",
   "metadata": {},
   "source": [
    "# Arithemetic Operation on image using opencv"
   ]
  },
  {
   "cell_type": "code",
   "execution_count": 75,
   "id": "60ba2c38-d255-46d6-9e2b-706581f101ca",
   "metadata": {},
   "outputs": [],
   "source": [
    "img4=cv2.imread(\"sunnyleone.jpeg\")\n",
    "img5=cv2.imread(\"viratkohli.jpeg\")\n",
    "img4=cv2.resize(img4,(400,400))\n",
    "img5=cv2.resize(img5,(400,400))\n",
    "add=cv2.addWeighted(img4,1,img5,0.5,2)\n",
    "cv2.imshow(\"windows\",add)\n",
    "cv2.waitKey(0)\n",
    "cv2.destroyAllWindows()"
   ]
  },
  {
   "cell_type": "code",
   "execution_count": null,
   "id": "14c4476e-d00f-44ce-97d7-3066210b032d",
   "metadata": {},
   "outputs": [],
   "source": []
  }
 ],
 "metadata": {
  "kernelspec": {
   "display_name": "Python 3 (ipykernel)",
   "language": "python",
   "name": "python3"
  },
  "language_info": {
   "codemirror_mode": {
    "name": "ipython",
    "version": 3
   },
   "file_extension": ".py",
   "mimetype": "text/x-python",
   "name": "python",
   "nbconvert_exporter": "python",
   "pygments_lexer": "ipython3",
   "version": "3.12.3"
  }
 },
 "nbformat": 4,
 "nbformat_minor": 5
}
