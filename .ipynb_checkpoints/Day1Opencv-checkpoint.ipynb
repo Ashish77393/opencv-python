{
 "cells": [
  {
   "cell_type": "code",
   "execution_count": 1,
   "id": "a211624c-6fac-40b2-b058-7ebb11b17b3b",
   "metadata": {},
   "outputs": [],
   "source": [
    "import cv2"
   ]
  },
  {
   "cell_type": "code",
   "execution_count": 5,
   "id": "f9799900-fcd9-4fc4-9931-98d3ad75ed16",
   "metadata": {},
   "outputs": [],
   "source": [
    "img=cv2.imread(\"sunnyleone.jpeg\")\n",
    "re_size=cv2.resize(img,(800,700))\n",
    "cv2.imshow(\"sunnyleone\",re_size)\n",
    "cv2.waitKey(0)\n",
    "cv2.destroyAllWindows()"
   ]
  },
  {
   "cell_type": "markdown",
   "id": "2bcc7a06-16c7-4ac0-bf31-333d0de07d76",
   "metadata": {},
   "source": [
    "# add multiple img"
   ]
  },
  {
   "cell_type": "code",
   "execution_count": 10,
   "id": "a22815c5-8576-467b-9ddf-e9f5f7a906d6",
   "metadata": {},
   "outputs": [],
   "source": [
    "import numpy as np \n",
    "img=cv2.imread(\"th (2).jpeg\")\n",
    "re_size=cv2.resize(img,(400,500))\n",
    "h=np.hstack((re_size,re_size))\n",
    "cv2.imshow(\"sunnyleone\",h)\n",
    "cv2.waitKey(0)\n",
    "cv2.destroyAllWindows()"
   ]
  },
  {
   "cell_type": "code",
   "execution_count": 13,
   "id": "c73d2fe5-e3c3-497c-ba02-0743c1a7a168",
   "metadata": {},
   "outputs": [],
   "source": [
    "# vertically\n",
    "import numpy as np \n",
    "img=cv2.imread(\"th (2).jpeg\")\n",
    "re_size=cv2.resize(img,(400,200))\n",
    "v=np.vstack((re_size,re_size))\n",
    "cv2.imshow(\"sunnyleone\",v)\n",
    "cv2.waitKey(0)\n",
    "cv2.destroyAllWindows()"
   ]
  },
  {
   "cell_type": "code",
   "execution_count": 16,
   "id": "14e9f6ae-9c16-4497-b3d3-6415e0166d29",
   "metadata": {},
   "outputs": [],
   "source": [
    "# horizontally and vertically\n",
    "import numpy as np \n",
    "img=cv2.imread(\"th (2).jpeg\")\n",
    "re_size=cv2.resize(img,(400,200))\n",
    "h=np.hstack((re_size,re_size,re_size))\n",
    "v=np.vstack((h,h,h))\n",
    "cv2.imshow(\"sunnyleone\",v)\n",
    "cv2.waitKey(0)\n",
    "cv2.destroyAllWindows()"
   ]
  },
  {
   "cell_type": "code",
   "execution_count": null,
   "id": "a2403ebd-6ab6-483f-9a66-9ee49e384a4d",
   "metadata": {},
   "outputs": [],
   "source": []
  }
 ],
 "metadata": {
  "kernelspec": {
   "display_name": "Python 3 (ipykernel)",
   "language": "python",
   "name": "python3"
  },
  "language_info": {
   "codemirror_mode": {
    "name": "ipython",
    "version": 3
   },
   "file_extension": ".py",
   "mimetype": "text/x-python",
   "name": "python",
   "nbconvert_exporter": "python",
   "pygments_lexer": "ipython3",
   "version": "3.12.3"
  }
 },
 "nbformat": 4,
 "nbformat_minor": 5
}
