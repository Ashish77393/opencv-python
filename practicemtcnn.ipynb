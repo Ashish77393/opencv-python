{
 "cells": [
  {
   "cell_type": "code",
   "execution_count": 1,
   "id": "68efd9fe-e336-42a2-932a-8526b6d6e075",
   "metadata": {},
   "outputs": [],
   "source": [
    "import cv2\n",
    "import numpy as np "
   ]
  },
  {
   "cell_type": "code",
   "execution_count": 2,
   "id": "31d27b74-56dc-4803-9049-9dbf8adb6046",
   "metadata": {},
   "outputs": [
    {
     "name": "stdout",
     "output_type": "stream",
     "text": [
      "(200, 200, 3)\n",
      "(200, 200, 3)\n"
     ]
    },
    {
     "data": {
      "text/plain": [
       "(None, None)"
      ]
     },
     "execution_count": 2,
     "metadata": {},
     "output_type": "execute_result"
    }
   ],
   "source": [
    "image=cv2.imread(\"sunnyleone.jpeg\")\n",
    "image2=cv2.imread('bollywood.jpeg')\n",
    "new_img1=cv2.resize(image,(200,200))\n",
    "new_img2=cv2.resize(image2,(200,200))\n",
    "print(new_img1.shape),print(new_img2.shape)"
   ]
  },
  {
   "cell_type": "code",
   "execution_count": 3,
   "id": "19b3492c-a49d-4d4a-b712-3bee676ce7bc",
   "metadata": {},
   "outputs": [],
   "source": [
    "# cv2.imshow('image',image)\n",
    "# cv2.rectangle(image,pt1=(50,500),pt2=(100,100),color=(255,0,0),thickness=3)\n",
    "# cv2.putText(image, 'OpenCV Demo', (100, 150),cv2.FONT_HERSHEY_SIMPLEX, 4, (255, 0, 0), 2)\n",
    "# cv2.waitKey(1)"
   ]
  },
  {
   "cell_type": "code",
   "execution_count": 4,
   "id": "0ebedd50-972a-423e-91a1-702f9f6cdd1f",
   "metadata": {},
   "outputs": [],
   "source": [
    "# print(image.shape)"
   ]
  },
  {
   "cell_type": "code",
   "execution_count": null,
   "id": "62763af3-00cb-4124-a1e9-8192fb844d9e",
   "metadata": {},
   "outputs": [],
   "source": [
    "\n"
   ]
  },
  {
   "cell_type": "code",
   "execution_count": 5,
   "id": "d8bb8b83-26a8-406f-b078-f413d4885ca3",
   "metadata": {},
   "outputs": [],
   "source": [
    "# B, G, R = cv2.split(image) \n",
    "# # Corresponding channels are separated \n",
    "  \n",
    "# cv2.imshow(\"original\", image) \n",
    "# cv2.waitKey(0) \n",
    "  \n",
    "# cv2.imshow(\"blue\", B) \n",
    "# cv2.waitKey(0) \n",
    "  \n",
    "# cv2.imshow(\"Green\", G) \n",
    "# cv2.waitKey(0) \n",
    "  \n",
    "# cv2.imshow(\"red\", R) \n",
    "# cv2.waitKey(0) \n"
   ]
  },
  {
   "cell_type": "code",
   "execution_count": 6,
   "id": "d6f64914-03a7-4f32-bfaf-f55a6117ca72",
   "metadata": {},
   "outputs": [],
   "source": [
    "# weightedSum = cv2.addWeighted(new_img1, 0.5, new_img2, 0.4, 0) \n",
    "# cv2.imshow(\"add_image\",weightedSum)\n",
    "# if cv2.waitKey(1) & 0xFF==ord('x'):\n",
    "#  cv2.destroyAllWindows()"
   ]
  },
  {
   "cell_type": "markdown",
   "id": "fd7a5299-04ca-48ab-ab7a-04170f4d0af5",
   "metadata": {},
   "source": [
    "Blure image"
   ]
  },
  {
   "cell_type": "code",
   "execution_count": 7,
   "id": "90211490-97af-4e0a-907d-8ec8fefb69c3",
   "metadata": {},
   "outputs": [],
   "source": [
    "# blur=cv2.GaussianBlur(image,(9,9),50)\n",
    "# cv2.imshow('window',blur)\n",
    "# cv2.waitKey(0)"
   ]
  },
  {
   "cell_type": "markdown",
   "id": "dc315eff-ddf4-45e7-87e6-a75d903c491b",
   "metadata": {},
   "source": [
    "line"
   ]
  },
  {
   "cell_type": "code",
   "execution_count": 3,
   "id": "885df509-843f-4546-9aed-1cb8ea1b24c3",
   "metadata": {},
   "outputs": [],
   "source": [
    "# new=cv2.line(image,pt1=(0,0),pt2=(255,255),thickness=10,color=(255,0,0))\n",
    "# cv2.arrowedline\n",
    "# image = cv2.ellipse(image, center_coordinates, axesLength,angle, startAngle, endAngle, color, thickness) \n",
    "# image = cv2.circle(image, center_coordinates, radius, color, thickness) \n",
    "# image = cv2.putText(image, 'OpenCV', org, font,fontScale, color, thickness, cv2.LINE_AA)\n",
    "# cv2.imshow('windows',new)"
   ]
  },
  {
   "cell_type": "code",
   "execution_count": 5,
   "id": "6d92ea79-503b-4631-86f9-72e4d32c510c",
   "metadata": {},
   "outputs": [],
   "source": []
  },
  {
   "cell_type": "code",
   "execution_count": null,
   "id": "6946a78e-66c7-4d56-85a5-dbb72db97b2b",
   "metadata": {},
   "outputs": [],
   "source": []
  }
 ],
 "metadata": {
  "kernelspec": {
   "display_name": "Python 3 (ipykernel)",
   "language": "python",
   "name": "python3"
  },
  "language_info": {
   "codemirror_mode": {
    "name": "ipython",
    "version": 3
   },
   "file_extension": ".py",
   "mimetype": "text/x-python",
   "name": "python",
   "nbconvert_exporter": "python",
   "pygments_lexer": "ipython3",
   "version": "3.12.3"
  }
 },
 "nbformat": 4,
 "nbformat_minor": 5
}
